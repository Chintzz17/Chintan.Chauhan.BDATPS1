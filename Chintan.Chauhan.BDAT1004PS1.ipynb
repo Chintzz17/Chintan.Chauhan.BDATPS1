{
 "cells": [
  {
   "cell_type": "markdown",
   "id": "30f66927",
   "metadata": {},
   "source": [
    "# Problem Set 1\n"
   ]
  },
  {
   "cell_type": "markdown",
   "id": "2cce2017",
   "metadata": {},
   "source": [
    "# Question:1\n",
    "What data type is each of the following (evaluate where necessary)?"
   ]
  },
  {
   "cell_type": "code",
   "execution_count": 72,
   "id": "8c80838f",
   "metadata": {},
   "outputs": [
    {
     "name": "stdout",
     "output_type": "stream",
     "text": [
      "<class 'int'>\n",
      "<class 'float'>\n",
      "<class 'bool'>\n",
      "<class 'str'>\n",
      "<class 'int'>\n",
      "<class 'str'>\n",
      "<class 'str'>\n",
      "<class 'float'>\n",
      "<class 'int'>\n",
      "<class 'set'>\n",
      "<class 'bool'>\n",
      "<class 'float'>\n"
     ]
    }
   ],
   "source": [
    "Pi = 3.141592653589793238\n",
    "List = [5,5.5,(5>2),'5',(5*2),('5'*2),'5'+'2',5/2,5%2,{5,2,1},5==1,Pi]\n",
    "\n",
    "for li in List:\n",
    "    print(type(li))\n"
   ]
  },
  {
   "cell_type": "markdown",
   "id": "e2332f6a",
   "metadata": {},
   "source": [
    "# Question 2\n",
    "Write (and evaluate) python expressions that answer these questions:  \n",
    "a. How many letters are there in 'Supercalifragilisticexpialidocious'?  \n",
    "b. Does 'Supercalifragilisticexpialidocious' contain 'ice' as a substring?  \n",
    "c. Which of the following words is the longest:\n",
    "Supercalifragilisticexpialidocious, Honorificabilitudinitatibus, or\n",
    "Bababadalgharaghtakamminarronnkonn?  \n",
    "d. Which composer comes first in the dictionary: 'Berlioz', 'Borodin', 'Brian',\n",
    "'Bartok', 'Bellini', 'Buxtehude', 'Bernstein'. Which one comes last?"
   ]
  },
  {
   "cell_type": "code",
   "execution_count": 2,
   "id": "f7de03c3",
   "metadata": {
    "scrolled": true
   },
   "outputs": [
    {
     "name": "stdout",
     "output_type": "stream",
     "text": [
      "a = There are total 34 letters in 'Supercalifragilisticexpialidocious'\n",
      "b = 'ice' is a substring of 'Supercalifragilisticexpialidocious'.\n",
      "c = Longest among three is: 'Supercalifragilisticexpialidocious'.\n",
      "d = First Composer:'Bartok' and Last Composer:'Buxtehude'.\n"
     ]
    }
   ],
   "source": [
    "#A\n",
    "x = 'Supercalifragilisticexpialidocious'\n",
    "i= len(x)\n",
    "print(f\"a = There are total {i} letters in '{x}'\")\n",
    "\n",
    "#B\n",
    "to_check = 'ice'\n",
    "\n",
    "if to_check in x:\n",
    "    print(f\"b = '{to_check}' is a substring of '{x}'.\")\n",
    "else:\n",
    "    print(f\"b = '{to_check}' is a substring of '{x}'.\")\n",
    "\n",
    "#C\n",
    "words = ['Supercalifragilisticexpialidocious', 'Honorificabilitudinitatibus', 'Bababadalgharaghtakamminarronnkonn']\n",
    "LongestW = max(words ,key=len)\n",
    "print(f\"c = Longest among three is: '{LongestW}'.\")\n",
    "\n",
    "#D\n",
    "y = ['Berlioz', 'Borodin', 'Brian', 'Bartok', 'Bellini', 'Buxtehude', 'Bernstein']\n",
    "fc = min(y)\n",
    "lc = max(y)\n",
    "print(f\"d = First Composer:'{fc}' and Last Composer:'{lc}'.\")"
   ]
  },
  {
   "cell_type": "markdown",
   "id": "cb1d9f45",
   "metadata": {},
   "source": [
    "# Question 3\n",
    "\n",
    "Implement function triangleArea(a,b,c) that takes as input the lengths of the 3\n",
    "sides of a triangle and returns the area of the triangle. By Heron's formula, the area\n",
    "of a triangle with side lengths a, b, and c is\n",
    "s(s - a)(s -b)(s -c),  \n",
    "where\n",
    "s = (a+b+c)/2.  \n",
    "//triangleArea(2,2,2)  \n",
    "//1.7320508075688772\n"
   ]
  },
  {
   "cell_type": "code",
   "execution_count": 3,
   "id": "032dd3d9",
   "metadata": {},
   "outputs": [
    {
     "name": "stdout",
     "output_type": "stream",
     "text": [
      "Area of Triangle: 1.7320508075688772\n"
     ]
    }
   ],
   "source": [
    "import math \n",
    "\n",
    "def triangleArea(a,b,c):\n",
    "    s = (a+b+c)/2\n",
    "    area = math.sqrt(s*(s-a)*(s-b)*(s-c))\n",
    "    return area\n",
    "X = triangleArea(2,2,2)\n",
    "print(\"Area of Triangle:\",X)"
   ]
  },
  {
   "cell_type": "markdown",
   "id": "03f3de00",
   "metadata": {},
   "source": [
    "# Question 4\n",
    "\n",
    "Write a program in python to separate odd and even integers in separate arrays."
   ]
  },
  {
   "cell_type": "code",
   "execution_count": 4,
   "id": "75b6d478",
   "metadata": {},
   "outputs": [
    {
     "name": "stdout",
     "output_type": "stream",
     "text": [
      "Enter the length of Array: 6\n",
      "Enter Element 1: 33\n",
      "Enter Element 2: 34\n",
      "Enter Element 3: 67\n",
      "Enter Element 4: 45\n",
      "Enter Element 5: 68\n",
      "Enter Element 6: 70\n",
      "Odd number: [33, 67, 45]\n",
      "Even Number: [34, 68, 70]\n"
     ]
    }
   ],
   "source": [
    "f = int(input(\"Enter the length of Array: \"))\n",
    "list = []\n",
    "\n",
    "for aa in range(f):\n",
    "    element = int(input(f\"Enter Element {aa+1}: \"))\n",
    "    list.append(element)\n",
    "odd=[]\n",
    "even=[]\n",
    "\n",
    "for l in list:\n",
    "    if (l%2):\n",
    "        odd.append(l)\n",
    "    else:\n",
    "        even.append(l)\n",
    "        \n",
    "print(\"Odd number:\",odd)\n",
    "print(\"Even Number:\",even)"
   ]
  },
  {
   "cell_type": "markdown",
   "id": "2982adbe",
   "metadata": {},
   "source": [
    "# Quetion 5\n",
    "\n",
    "a. Write a function inside(x,y,x1,y1,x2,y2) that returns True or False\n",
    "depending on whether the point (x,y) lies in the rectangle with lower left\n",
    "corner (x1,y1) and upper right corner (x2,y2).  \n",
    "b. Use function inside() from part a. to write an expression that tests whether\n",
    "the point (1,1) lies in both of the following rectangles: one with lower left\n",
    "corner (0.3, 0.5) and upper right corner (1.1, 0.7) and the other with lower\n",
    "left corner (0.5, 0.2) and upper right corner (1.1, 2). "
   ]
  },
  {
   "cell_type": "code",
   "execution_count": 2,
   "id": "a16a5555",
   "metadata": {
    "scrolled": true
   },
   "outputs": [
    {
     "data": {
      "text/plain": [
       "True"
      ]
     },
     "execution_count": 2,
     "metadata": {},
     "output_type": "execute_result"
    }
   ],
   "source": [
    "#a\n",
    "def inside(x,y,x1,y1,x2,y2):\n",
    "    return x1<= x <=x2 and y1<= y <=y2 \n",
    "inside(5,6,2,3,8,9)"
   ]
  },
  {
   "cell_type": "code",
   "execution_count": 3,
   "id": "9cef205e",
   "metadata": {},
   "outputs": [
    {
     "name": "stdout",
     "output_type": "stream",
     "text": [
      "The point (1,1) does not lie in both of the rectangles.\n"
     ]
    }
   ],
   "source": [
    "#b\n",
    "X,Y = 1,1\n",
    "x1_rect1, y1_rect1 = 0.3 , 0.5\n",
    "x2_rect1, y2_rect1 = 1.1 , 0.7\n",
    "x1_rect2, y1_rect2 = 0.5 , 0.2\n",
    "x2_rect2, y2_rect2 = 1.1 , 2\n",
    "\n",
    "rect1 = inside(X,Y,x1_rect1,y1_rect1,x2_rect1,y2_rect1)\n",
    "rect2 = inside(X,Y,x1_rect2,y1_rect2,x2_rect2,y2_rect2)\n",
    "\n",
    "if rect1 and rect2:\n",
    "    print(\"The point (1,1) lies in both of the rectangles.\")\n",
    "else:\n",
    "    print(\"The point (1,1) does not lie in both of the rectangles.\")"
   ]
  },
  {
   "cell_type": "markdown",
   "id": "b1a9cae3",
   "metadata": {},
   "source": [
    "# Question 6\n",
    "\n",
    "You can turn a word into pig-Latin using the following two rules (simplified):  \n",
    "• If the word starts with a consonant, move that letter to the end and append\n",
    "'ay'. For example, 'happy' becomes 'appyhay' and 'pencil' becomes 'encilpay'.  \n",
    "• If the word starts with a vowel, simply append 'way' to the end of the word.  \n",
    "\n",
    "For example, 'enter' becomes 'enterway' and 'other' becomes 'otherway' . For\n",
    "our purposes, there are 5 vowels: a, e, i, o, u (so we count y as a consonant).  \n",
    "Write a function pig() that takes a word (i.e., a string) as input and returns its pigLatin form. Your function should still work if the input word contains upper case\n",
    "characters.  \n",
    "Your output should always be lower case however."
   ]
  },
  {
   "cell_type": "code",
   "execution_count": 10,
   "id": "b5a24b8e",
   "metadata": {},
   "outputs": [
    {
     "name": "stdout",
     "output_type": "stream",
     "text": [
      "appyhay\n",
      "enterway\n"
     ]
    }
   ],
   "source": [
    "def pig(word):\n",
    "    word = word.lower()\n",
    "    vowels = ['a','e','i','o','u']\n",
    "\n",
    "    if word[0] in vowels:\n",
    "        word = word + 'way'\n",
    "        print(word)\n",
    "\n",
    "    else:\n",
    "        word = word[1:] + word[0] + 'ay' \n",
    "        print(word)\n",
    "pig('happy')\n",
    "pig('ENTER')"
   ]
  },
  {
   "cell_type": "markdown",
   "id": "7c1ffc59",
   "metadata": {},
   "source": [
    "# Question 7\n",
    "\n",
    "File bloodtype1.txt records blood-types of patients (A, B, AB, O or OO) at a clinic.  \n",
    "Write a function bldcount() that reads the file with name name and reports (i.e.,prints)  \n",
    "how many patients there are in each bloodtype.\n",
    "###### >>> bldcount('bloodtype.txt')\n",
    "There are 10 patients of blood type A.  \n",
    "There is one patient of blood type B.  \n",
    "There are 10 patients of blood type AB.  \n",
    "There are 12 patients of blood type O.  \n",
    "There are no patients of blood type OO."
   ]
  },
  {
   "cell_type": "code",
   "execution_count": 74,
   "id": "d16cc619",
   "metadata": {},
   "outputs": [
    {
     "name": "stdout",
     "output_type": "stream",
     "text": [
      "There are 15 patients of blood type A\n",
      "There is one patient of blood type B\n",
      "There are 13 patients of blood type AB\n",
      "There are 15 patients of blood type O\n",
      "There are no patients of blood type OO\n"
     ]
    }
   ],
   "source": [
    "def bldcount(filename):\n",
    "    \n",
    "    file = open(filename)\n",
    "    content = file.read()\n",
    "    blood_type = content.split()\n",
    "    \n",
    "    D= {'A':0,'B':0,'AB':0,'O':0,'OO':0}\n",
    "    \n",
    "    for bt in blood_type:\n",
    "        D[bt] += 1\n",
    "\n",
    "    for blood_type, count in D.items():\n",
    "        if(count == 0):\n",
    "            print(f\"There are no patients of blood type {blood_type}\")\n",
    "        elif(count == 1):\n",
    "            print(f\"There is one patient of blood type {blood_type}\")\n",
    "        else:\n",
    "            print(f\"There are {count} patients of blood type {blood_type}\")\n",
    "    \n",
    "bldcount('bloodtype1.txt')"
   ]
  },
  {
   "cell_type": "markdown",
   "id": "2d895ed7",
   "metadata": {},
   "source": [
    "# Question 8\n",
    "\n",
    "Write a function curconv() that takes as input:\n",
    "1. a currency represented using a string (e.g., 'JPY' for the Japanese Yen or\n",
    "'EUR' for the Euro)\n",
    "2. an amount\n",
    "and then converts and returns the amount in US dollars.\n",
    "###### >>> curconv('EUR', 100)\n",
    "122.96544\n",
    "###### >>> curconv('JPY', 100)\n",
    "1.241401\n"
   ]
  },
  {
   "cell_type": "code",
   "execution_count": 60,
   "id": "c6b20af1",
   "metadata": {},
   "outputs": [
    {
     "name": "stdout",
     "output_type": "stream",
     "text": [
      "122.96544\n",
      "1.241401\n"
     ]
    }
   ],
   "source": [
    "def curconv(cur,amt):\n",
    "    f = open(\"currencies.txt\")\n",
    "    w = []\n",
    "    for i in f:\n",
    "        w.append(i.split())\n",
    "    for i in w:\n",
    "        if(i[0] == cur):\n",
    "            res = float(i[1]) * amt\n",
    "            return res\n",
    "        \n",
    "print(curconv(\"EUR\",100))\n",
    "print(curconv('JPY', 100))"
   ]
  },
  {
   "cell_type": "markdown",
   "id": "d984a556",
   "metadata": {},
   "source": [
    "# Question 9\n",
    "\n",
    "Each of the following will cause an exception (an error). Identify what type of\n",
    "exception each will cause."
   ]
  },
  {
   "cell_type": "markdown",
   "id": "dea899f3",
   "metadata": {},
   "source": [
    "Trying to add incompatible variables, as in\n",
    "adding 6 + ‘a’"
   ]
  },
  {
   "cell_type": "code",
   "execution_count": 61,
   "id": "c468b1f9",
   "metadata": {},
   "outputs": [
    {
     "ename": "SyntaxError",
     "evalue": "invalid character '‘' (U+2018) (1021792593.py, line 1)",
     "output_type": "error",
     "traceback": [
      "\u001b[1;36m  Input \u001b[1;32mIn [61]\u001b[1;36m\u001b[0m\n\u001b[1;33m    6 + ‘a’\u001b[0m\n\u001b[1;37m        ^\u001b[0m\n\u001b[1;31mSyntaxError\u001b[0m\u001b[1;31m:\u001b[0m invalid character '‘' (U+2018)\n"
     ]
    }
   ],
   "source": [
    "6 + ‘a’"
   ]
  },
  {
   "cell_type": "markdown",
   "id": "6159f508",
   "metadata": {},
   "source": [
    "Referring to the 12th item of a list that has only 10\n",
    "items"
   ]
  },
  {
   "cell_type": "code",
   "execution_count": 63,
   "id": "37b7e88c",
   "metadata": {},
   "outputs": [
    {
     "ename": "IndexError",
     "evalue": "list index out of range",
     "output_type": "error",
     "traceback": [
      "\u001b[1;31m---------------------------------------------------------------------------\u001b[0m",
      "\u001b[1;31mIndexError\u001b[0m                                Traceback (most recent call last)",
      "Input \u001b[1;32mIn [63]\u001b[0m, in \u001b[0;36m<cell line: 2>\u001b[1;34m()\u001b[0m\n\u001b[0;32m      1\u001b[0m Lst \u001b[38;5;241m=\u001b[39m [\u001b[38;5;241m1\u001b[39m,\u001b[38;5;241m2\u001b[39m,\u001b[38;5;241m3\u001b[39m,\u001b[38;5;241m4\u001b[39m,\u001b[38;5;241m5\u001b[39m,\u001b[38;5;241m6\u001b[39m,\u001b[38;5;241m7\u001b[39m,\u001b[38;5;241m8\u001b[39m,\u001b[38;5;241m9\u001b[39m,\u001b[38;5;241m10\u001b[39m]\n\u001b[1;32m----> 2\u001b[0m \u001b[38;5;28mprint\u001b[39m(\u001b[43mLst\u001b[49m\u001b[43m[\u001b[49m\u001b[38;5;241;43m11\u001b[39;49m\u001b[43m]\u001b[49m)\n",
      "\u001b[1;31mIndexError\u001b[0m: list index out of range"
     ]
    }
   ],
   "source": [
    "Lst = [1,2,3,4,5,6,7,8,9,10]\n",
    "print(Lst[11])"
   ]
  },
  {
   "cell_type": "markdown",
   "id": "13b553f3",
   "metadata": {},
   "source": [
    "Using a value that is out of range for a function’s\n",
    "input, such as calling math.sqrt(-1.0)"
   ]
  },
  {
   "cell_type": "code",
   "execution_count": 66,
   "id": "cfbab65a",
   "metadata": {},
   "outputs": [
    {
     "ename": "ValueError",
     "evalue": "math domain error",
     "output_type": "error",
     "traceback": [
      "\u001b[1;31m---------------------------------------------------------------------------\u001b[0m",
      "\u001b[1;31mValueError\u001b[0m                                Traceback (most recent call last)",
      "Input \u001b[1;32mIn [66]\u001b[0m, in \u001b[0;36m<cell line: 2>\u001b[1;34m()\u001b[0m\n\u001b[0;32m      1\u001b[0m \u001b[38;5;28;01mimport\u001b[39;00m \u001b[38;5;21;01mmath\u001b[39;00m\n\u001b[1;32m----> 2\u001b[0m \u001b[38;5;28mprint\u001b[39m(\u001b[43mmath\u001b[49m\u001b[38;5;241;43m.\u001b[39;49m\u001b[43msqrt\u001b[49m\u001b[43m(\u001b[49m\u001b[38;5;241;43m-\u001b[39;49m\u001b[38;5;241;43m1.0\u001b[39;49m\u001b[43m)\u001b[49m)\n",
      "\u001b[1;31mValueError\u001b[0m: math domain error"
     ]
    }
   ],
   "source": [
    "import math\n",
    "print(math.sqrt(-1.0))"
   ]
  },
  {
   "cell_type": "markdown",
   "id": "f95f0cf3",
   "metadata": {},
   "source": [
    "Using an undeclared variable, such as print(x)\n",
    "when x has not been defined "
   ]
  },
  {
   "cell_type": "code",
   "execution_count": 67,
   "id": "9c107972",
   "metadata": {},
   "outputs": [
    {
     "ename": "NameError",
     "evalue": "name 'x' is not defined",
     "output_type": "error",
     "traceback": [
      "\u001b[1;31m---------------------------------------------------------------------------\u001b[0m",
      "\u001b[1;31mNameError\u001b[0m                                 Traceback (most recent call last)",
      "Input \u001b[1;32mIn [67]\u001b[0m, in \u001b[0;36m<cell line: 4>\u001b[1;34m()\u001b[0m\n\u001b[0;32m      2\u001b[0m B \u001b[38;5;241m=\u001b[39m \u001b[38;5;241m10\u001b[39m\n\u001b[0;32m      3\u001b[0m C \u001b[38;5;241m=\u001b[39m A\u001b[38;5;241m+\u001b[39mB\n\u001b[1;32m----> 4\u001b[0m \u001b[38;5;28mprint\u001b[39m(\u001b[43mx\u001b[49m)\n",
      "\u001b[1;31mNameError\u001b[0m: name 'x' is not defined"
     ]
    }
   ],
   "source": [
    "A = 5\n",
    "B = 10\n",
    "C = A+B\n",
    "print(x)"
   ]
  },
  {
   "cell_type": "markdown",
   "id": "f8d5b3c5",
   "metadata": {},
   "source": [
    "Trying to open a file that does not exist, such as\n",
    "mistyping the file name or looking in the wrong\n",
    "directory. "
   ]
  },
  {
   "cell_type": "code",
   "execution_count": 68,
   "id": "21fff8e3",
   "metadata": {},
   "outputs": [
    {
     "ename": "FileNotFoundError",
     "evalue": "[Errno 2] No such file or directory: 'chintan.txt'",
     "output_type": "error",
     "traceback": [
      "\u001b[1;31m---------------------------------------------------------------------------\u001b[0m",
      "\u001b[1;31mFileNotFoundError\u001b[0m                         Traceback (most recent call last)",
      "Input \u001b[1;32mIn [68]\u001b[0m, in \u001b[0;36m<cell line: 1>\u001b[1;34m()\u001b[0m\n\u001b[1;32m----> 1\u001b[0m f \u001b[38;5;241m=\u001b[39m \u001b[38;5;28;43mopen\u001b[39;49m\u001b[43m(\u001b[49m\u001b[38;5;124;43m'\u001b[39;49m\u001b[38;5;124;43mchintan.txt\u001b[39;49m\u001b[38;5;124;43m'\u001b[39;49m\u001b[43m)\u001b[49m\n",
      "\u001b[1;31mFileNotFoundError\u001b[0m: [Errno 2] No such file or directory: 'chintan.txt'"
     ]
    }
   ],
   "source": [
    "f = open('chintan.txt')"
   ]
  },
  {
   "cell_type": "markdown",
   "id": "8a6045f3",
   "metadata": {},
   "source": [
    "# Question 10\n",
    "Encryption is the process of hiding the meaning of a text by substituting letters in the\n",
    "message with other letters, according to some system. If the process is successful, no\n",
    "one but the intended recipient can understand the encrypted message. Cryptanalysis\n",
    "refers to attempts to undo the encryption, even if some details of the encryption are\n",
    "unknown (for example, if an encrypted message has been intercepted). The first step\n",
    "of cryptanalysis is often to build up a table of letter frequencies in the encrypted text.\n",
    "Assume that the string letters is already defined as\n",
    "'abcdefghijklmnopqrstuvwxyz'. Write a function called frequencies()\n",
    "that takes a string as its only parameter, and returns a list of integers, showing the\n",
    "number of times each character appears in the text. Your function may ignore any\n",
    "characters that are not in letters.\n",
    "###### >>> frequencies('The quick red fox got bored and went home.')\n",
    "[1, 1, 1, 3, 5, 1, 1, 2, 1, 0, 1, 0, 1, 2, 4, 0, 1, 2, 0, 2,\n",
    "1, 0, 1, 1, 0, 0]\n",
    "###### >>> frequencies('apple')"
   ]
  },
  {
   "cell_type": "code",
   "execution_count": 70,
   "id": "6323d5d1",
   "metadata": {},
   "outputs": [
    {
     "name": "stdout",
     "output_type": "stream",
     "text": [
      "[1, 1, 1, 3, 5, 1, 1, 2, 1, 0, 1, 0, 1, 2, 4, 0, 1, 2, 0, 3, 1, 0, 1, 1, 0, 0]\n",
      "[1, 0, 0, 0, 1, 0, 0, 0, 0, 0, 0, 1, 0, 0, 0, 2, 0, 0, 0, 0, 0, 0, 0, 0, 0, 0]\n"
     ]
    }
   ],
   "source": [
    "def frequencies(string):\n",
    "    string = string.lower()\n",
    "    alphabets = 'abcdefghijklmnopqrstuvwxyz'\n",
    "    a = []\n",
    "    for i in alphabets:\n",
    "        a.append(i)\n",
    "    b = []\n",
    "    for i in a:\n",
    "        b.append(string.count(i))\n",
    "    return b\n",
    "\n",
    "print(frequencies('The quick red fox got bored and went home'))\n",
    "print(frequencies('apple'))"
   ]
  },
  {
   "cell_type": "code",
   "execution_count": null,
   "id": "02dc7f6f",
   "metadata": {},
   "outputs": [],
   "source": []
  }
 ],
 "metadata": {
  "kernelspec": {
   "display_name": "Python 3 (ipykernel)",
   "language": "python",
   "name": "python3"
  },
  "language_info": {
   "codemirror_mode": {
    "name": "ipython",
    "version": 3
   },
   "file_extension": ".py",
   "mimetype": "text/x-python",
   "name": "python",
   "nbconvert_exporter": "python",
   "pygments_lexer": "ipython3",
   "version": "3.9.12"
  }
 },
 "nbformat": 4,
 "nbformat_minor": 5
}
